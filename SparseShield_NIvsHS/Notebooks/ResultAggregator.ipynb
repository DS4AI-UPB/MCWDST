{
 "metadata": {
  "language_info": {
   "codemirror_mode": {
    "name": "ipython",
    "version": 3
   },
   "file_extension": ".py",
   "mimetype": "text/x-python",
   "name": "python",
   "nbconvert_exporter": "python",
   "pygments_lexer": "ipython3",
   "version": "3.8.5"
  },
  "orig_nbformat": 2,
  "kernelspec": {
   "name": "python385jvsc74a57bd0b3ba2566441a7c06988d0923437866b63cedc61552a5af99d1f4fb67d367b25f",
   "display_name": "Python 3.8.5 64-bit ('base': conda)"
  }
 },
 "nbformat": 4,
 "nbformat_minor": 2,
 "cells": [
  {
   "cell_type": "code",
   "execution_count": null,
   "source": [
    "import os, json\r\n",
    "import pandas as pd\r\n",
    "import math"
   ],
   "outputs": [],
   "metadata": {}
  },
  {
   "cell_type": "code",
   "execution_count": null,
   "source": [
    "# this finds our json files\r\n",
    "path_to_json = 'results/'\r\n",
    "json_files = [pos_json for pos_json in os.listdir(path_to_json) if pos_json.endswith('.json')]"
   ],
   "outputs": [],
   "metadata": {}
  },
  {
   "cell_type": "code",
   "execution_count": null,
   "source": [
    "# here I define my pandas Dataframe with the columns I want to get from the json\r\n",
    "jsons_data = pd.DataFrame(columns=['id', 'nodes_in_graph', 'edges_in_graph','total_time', 'nodes_to_block', 'simulation_name'])\r\n",
    "json_blocked_data = pd.DataFrame(columns=['simulation_index', 'node'])\r\n",
    "idx = 0\r\n",
    "offset = 0\r\n",
    "\r\n",
    "# we need both the json and an index number so use enumerate()\r\n",
    "for index, file_name in enumerate(json_files):\r\n",
    "    tokens = file_name.replace('.json', '').split('_')\r\n",
    "    nodes_to_block = int(tokens[1])\r\n",
    "    name = tokens[2]\r\n",
    "    graph_stats = tokens[3].split(']')\r\n",
    "    num_nodes = int(graph_stats[0].replace('[',''))\r\n",
    "    num_edges = int(graph_stats[1].replace('[',''))\r\n",
    "\r\n",
    "    with open(os.path.join(path_to_json, file_name)) as json_file:\r\n",
    "        json_text = json.load(json_file)\r\n",
    "        jsons_data.loc[index] = [index + offset, num_nodes, num_edges, json_text['Total time'], nodes_to_block, name]\r\n",
    "\r\n",
    "        for blocked_node in json_text['Blocked nodes']:\r\n",
    "            json_blocked_data.loc[idx] = [index + offset, blocked_node]\r\n",
    "            idx += 1"
   ],
   "outputs": [],
   "metadata": {}
  },
  {
   "cell_type": "code",
   "execution_count": null,
   "source": [
    "jsons_data.to_csv('results/simulationData.csv', index=False)\r\n",
    "json_blocked_data.to_csv('results/simulationNodes.csv', index=False)"
   ],
   "outputs": [],
   "metadata": {}
  },
  {
   "cell_type": "code",
   "execution_count": null,
   "source": [
    "path_to_json = 'outputs/'\r\n",
    "json_files = [pos_json for pos_json in os.listdir(path_to_json) if pos_json.endswith('.json')]"
   ],
   "outputs": [],
   "metadata": {}
  },
  {
   "cell_type": "code",
   "execution_count": null,
   "source": [
    "sim_data = pd.DataFrame(columns=['simulation_index', 'mean_activated', 'var_activated', 'mean_saved', 'var_saved', 'saved_nodes', 'activated_nodes'])"
   ],
   "outputs": [],
   "metadata": {}
  },
  {
   "cell_type": "code",
   "execution_count": null,
   "source": [
    "index = 0\r\n",
    "for _, js in enumerate(json_files):\r\n",
    "    with open(os.path.join(path_to_json, js)) as json_file:\r\n",
    "        json_text = json.load(json_file)\r\n",
    "        for sim_id in json_text['solvers'].keys():\r\n",
    "            mean_activated = json_text['solvers'][sim_id]['activated nodes']['mean']\r\n",
    "            var_activated = json_text['solvers'][sim_id]['activated nodes']['var']\r\n",
    "            mean_saved = json_text['solvers'][sim_id]['saved nodes']['mean']\r\n",
    "            var_saved = json_text['solvers'][sim_id]['saved nodes']['var']\r\n",
    "\r\n",
    "            sim_data.loc[index] = [sim_id, mean_activated, var_activated, mean_saved, mean_activated, int(math.ceil(mean_saved)), int(math.ceil(mean_activated))]\r\n",
    "            index += 1"
   ],
   "outputs": [],
   "metadata": {}
  },
  {
   "cell_type": "code",
   "execution_count": null,
   "source": [
    "sim_data.to_csv('results/simulationStats.csv', index=False)"
   ],
   "outputs": [],
   "metadata": {}
  },
  {
   "cell_type": "code",
   "execution_count": null,
   "source": [],
   "outputs": [],
   "metadata": {}
  }
 ]
}