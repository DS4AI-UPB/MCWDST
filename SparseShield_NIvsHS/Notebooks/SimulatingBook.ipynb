{
 "metadata": {
  "language_info": {
   "codemirror_mode": {
    "name": "ipython",
    "version": 3
   },
   "file_extension": ".py",
   "mimetype": "text/x-python",
   "name": "python",
   "nbconvert_exporter": "python",
   "pygments_lexer": "ipython3",
   "version": "3.8.5"
  },
  "orig_nbformat": 2,
  "kernelspec": {
   "name": "python385jvsc74a57bd0b3ba2566441a7c06988d0923437866b63cedc61552a5af99d1f4fb67d367b25f",
   "display_name": "Python 3.8.5 64-bit ('base': conda)"
  }
 },
 "nbformat": 4,
 "nbformat_minor": 2,
 "cells": [
  {
   "cell_type": "code",
   "execution_count": null,
   "source": [
    "from Scripts.helpers.graph_builder_helpers import load_graph_from_file\r\n",
    "from Scripts.Simulator import *"
   ],
   "outputs": [],
   "metadata": {}
  },
  {
   "cell_type": "code",
   "execution_count": null,
   "source": [
    "from copy import deepcopy\r\n",
    "import pandas as pd\r\n",
    "import json"
   ],
   "outputs": [],
   "metadata": {}
  },
  {
   "cell_type": "code",
   "execution_count": null,
   "source": [
    "simmulations_to_run = 1000\r\n",
    "threads_to_use = 22"
   ],
   "outputs": [],
   "metadata": {}
  },
  {
   "cell_type": "code",
   "execution_count": null,
   "source": [
    "nodes_df = pd.read_csv('')\r\n",
    "meta_data_df = pd.read_csv('')\r\n",
    "nodes_by_simulation = nodes_df.groupby('simulation_index')['node'].apply(list).reset_index(name='blocked_nodes')"
   ],
   "outputs": [],
   "metadata": {}
  },
  {
   "cell_type": "code",
   "execution_count": null,
   "source": [
    "G = load_graph_from_file('')\r\n",
    "seed = []\r\n",
    "\r\n",
    "sim = Simulator(G, seed)"
   ],
   "outputs": [],
   "metadata": {}
  },
  {
   "cell_type": "code",
   "execution_count": null,
   "source": [
    "for index, row in meta_data_df.iterrows():\r\n",
    "    s_id = row['id']\r\n",
    "    mask = nodes_by_simulation['simulation_index'] == s_id\r\n",
    "    blocked_nodes = list(nodes_by_simulation[mask]['blocked_nodes'])[0]\r\n",
    "    nodes = row['nodes_in_graph']    \r\n",
    "\r\n",
    "    sim.add_blocked(s_id, blocked_nodes)"
   ],
   "outputs": [],
   "metadata": {
    "tags": []
   }
  },
  {
   "cell_type": "code",
   "execution_count": null,
   "source": [
    "results = sim.run(simmulations_to_run, threads_to_use)\r\n",
    "with open('outputs/data.json', 'w') as f:\r\n",
    "    json.dump(results, f)"
   ],
   "outputs": [],
   "metadata": {}
  }
 ]
}