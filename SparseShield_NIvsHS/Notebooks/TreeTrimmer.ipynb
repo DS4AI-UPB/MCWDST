{
 "metadata": {
  "language_info": {
   "codemirror_mode": {
    "name": "ipython",
    "version": 3
   },
   "file_extension": ".py",
   "mimetype": "text/x-python",
   "name": "python",
   "nbconvert_exporter": "python",
   "pygments_lexer": "ipython3",
   "version": "3.8.5"
  },
  "orig_nbformat": 2,
  "kernelspec": {
   "name": "python385jvsc74a57bd0b3ba2566441a7c06988d0923437866b63cedc61552a5af99d1f4fb67d367b25f",
   "display_name": "Python 3.8.5 64-bit ('base': conda)"
  }
 },
 "nbformat": 4,
 "nbformat_minor": 2,
 "cells": [
  {
   "cell_type": "code",
   "execution_count": null,
   "source": [
    "from Scripts.helpers.graph_builder_helpers import  load_graph_from_file, save_graph_named_by_size\r\n",
    "from Scripts.helpers.graph_builder_helpers import get_stats_for_nodes, analyze_graph, print_stats\r\n",
    "from Scripts.helpers.runners import run_solver_against_configs"
   ],
   "outputs": [],
   "metadata": {}
  },
  {
   "cell_type": "code",
   "execution_count": null,
   "source": [
    "from copy import deepcopy\r\n",
    "import itertools"
   ],
   "outputs": [],
   "metadata": {}
  },
  {
   "cell_type": "code",
   "execution_count": null,
   "source": [
    "graph_dump_path = '' # The full path, including filename\r\n",
    "graph_load_path = '' # Path to the pickle file"
   ],
   "outputs": [],
   "metadata": {}
  },
  {
   "cell_type": "code",
   "execution_count": null,
   "source": [
    "G = load_graph_from_file(graph_load_path)"
   ],
   "outputs": [],
   "metadata": {}
  },
  {
   "cell_type": "code",
   "execution_count": null,
   "source": [
    "high_ration = 0.8\r\n",
    "avg_ratio = 0.2\r\n",
    "low_ratio = 7.5\r\n",
    "above_avg_ratio = 1.1"
   ],
   "outputs": [],
   "metadata": {}
  },
  {
   "cell_type": "code",
   "execution_count": null,
   "source": [
    "(degrees, max_degree, min_degree, avg_degree) = get_stats_for_nodes(G)\r\n",
    "(high_degree_count, low_degree_count, avg_degree_count, nodes_above_avg_degree_count) = \\\r\n",
    "    analyze_graph(degrees, max_degree, min_degree, avg_degree, high_ration, low_ratio, avg_ratio, above_avg_ratio)"
   ],
   "outputs": [],
   "metadata": {
    "tags": []
   }
  },
  {
   "cell_type": "code",
   "execution_count": null,
   "source": [
    "print(\"The root will be \", degrees[int(max_degree)])\r\n",
    "print_stats(high_degree_count, low_degree_count, avg_degree_count, nodes_above_avg_degree_count, \\\r\n",
    "    high_ration, low_ratio, avg_ratio, above_avg_ratio, max_degree, min_degree, avg_degree, G)"
   ],
   "outputs": [],
   "metadata": {}
  },
  {
   "cell_type": "code",
   "execution_count": null,
   "source": [
    "nodes_to_cut = list(itertools.chain.from_iterable(\\\r\n",
    "    [nodes for (degree, nodes) in degrees.items() if (degree < low_ratio * min_degree)]))\r\n",
    "print(len(nodes_to_cut))"
   ],
   "outputs": [],
   "metadata": {}
  },
  {
   "cell_type": "code",
   "execution_count": null,
   "source": [
    "# Cleanse\r\n",
    "small_G = deepcopy(G)\r\n",
    "small_G.remove_nodes_from(nodes_to_cut)\r\n",
    "\r\n",
    "# Redo the degree and remove eventual zeroes\r\n",
    "(degrees, max_degree, min_degree, avg_degree) = get_stats_for_nodes(small_G)\r\n",
    "small_G.remove_nodes_from(degrees[0])"
   ],
   "outputs": [],
   "metadata": {}
  },
  {
   "cell_type": "code",
   "execution_count": null,
   "source": [
    "save_graph_named_by_size(small_G, graph_dump_path)"
   ],
   "outputs": [],
   "metadata": {}
  }
 ]
}