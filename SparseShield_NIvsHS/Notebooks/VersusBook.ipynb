{
 "metadata": {
  "language_info": {
   "codemirror_mode": {
    "name": "ipython",
    "version": 3
   },
   "file_extension": ".py",
   "mimetype": "text/x-python",
   "name": "python",
   "nbconvert_exporter": "python",
   "pygments_lexer": "ipython3",
   "version": "3.8.5"
  },
  "orig_nbformat": 2,
  "kernelspec": {
   "name": "python385jvsc74a57bd0b3ba2566441a7c06988d0923437866b63cedc61552a5af99d1f4fb67d367b25f",
   "display_name": "Python 3.8.5 64-bit ('base': conda)"
  }
 },
 "nbformat": 4,
 "nbformat_minor": 2,
 "cells": [
  {
   "cell_type": "code",
   "execution_count": null,
   "source": [
    "from Scripts.helpers.runners import run_solver_against_configs\r\n",
    "from Scripts.helpers.graph_builder_helpers import load_graph_from_file\r\n",
    "from Scripts.helpers.graph_builder_helpers import get_stats_for_nodes\r\n",
    "from Scripts.Simulator import *"
   ],
   "outputs": [],
   "metadata": {}
  },
  {
   "cell_type": "code",
   "execution_count": null,
   "source": [
    "import random\r\n",
    "import math\r\n",
    "import os, json\r\n",
    "import pandas as pd"
   ],
   "outputs": [],
   "metadata": {}
  },
  {
   "cell_type": "code",
   "execution_count": null,
   "source": [
    "def save_list_as_csv(path, items):\r\n",
    "    with open(path, 'w') as f:\r\n",
    "        for item in items:\r\n",
    "            f.write(\"%s \" % item)"
   ],
   "outputs": [],
   "metadata": {}
  },
  {
   "cell_type": "code",
   "execution_count": null,
   "source": [
    "GRAPH_PATH = ''\r\n",
    "FULL_GRAPH_PATH = ''\r\n",
    "SEED_FILE = ''\r\n",
    "FULL_SEED_FILE = ''\r\n",
    "\r\n",
    "simmulations_to_run = 100\r\n",
    "threads_to_use = 12\r\n",
    "desired_size_for_candidates = 15\r\n",
    "nodes_to_pick = 10\r\n",
    "picks_to_do = 100\r\n",
    "\r\n",
    "VERSUS_METHODS = ['SparseShield','Dom']\r\n",
    "VERSUS_OUT_NODES = 'versus_out/'\r\n",
    "VERSUS_OUT_RESULTS = 'versus_results/'"
   ],
   "outputs": [],
   "metadata": {}
  },
  {
   "cell_type": "code",
   "execution_count": null,
   "source": [
    "G = load_graph_from_file(FULL_GRAPH_PATH)"
   ],
   "outputs": [],
   "metadata": {}
  },
  {
   "cell_type": "code",
   "execution_count": null,
   "source": [
    "(degrees, max_degree, min_degree, avg_degree) = get_stats_for_nodes(G)"
   ],
   "outputs": [],
   "metadata": {}
  },
  {
   "cell_type": "code",
   "execution_count": null,
   "source": [
    "pick_from = []\r\n",
    "done = False\r\n",
    "\r\n",
    "for degree, nodes in sorted(degrees.items(), key=lambda item: item[0], reverse = True):\r\n",
    "    if done:\r\n",
    "        break\r\n",
    "\r\n",
    "    for node in nodes:\r\n",
    "        pick_from.append(node)\r\n",
    "\r\n",
    "        if (len(pick_from) == desired_size_for_candidates):\r\n",
    "            done = True\r\n",
    "            break"
   ],
   "outputs": [],
   "metadata": {}
  },
  {
   "cell_type": "code",
   "execution_count": null,
   "source": [
    "main_columns = ['id', 'nodes_in_graph', 'edges_in_graph','total_time', 'nodes_to_block', 'simulation_name']\r\n",
    "secondary_columns = ['simulation_index', 'node']"
   ],
   "outputs": [],
   "metadata": {}
  },
  {
   "cell_type": "code",
   "execution_count": null,
   "source": [
    "index = 6001\r\n",
    "idx = 6001\r\n",
    "\r\n",
    "jsons_data = pd.DataFrame(columns=main_columns)\r\n",
    "json_blocked_data = pd.DataFrame(columns=secondary_columns)\r\n",
    "\r\n",
    "for _ in range(picks_to_do):\r\n",
    "    seeds = list(random.sample(pick_from, nodes_to_pick))\r\n",
    "\r\n",
    "    save_list_as_csv(FULL_SEED_FILE, seeds)\r\n",
    "    run_solver_against_configs(results_path=VERSUS_OUT_NODES, graph_file=GRAPH_PATH, seed_file=SEED_FILE, startNumber=1, endNumber=11, step=1, algorithms_to_run=VERSUS_METHODS, just_solve = True)\r\n",
    "    sim = Simulator(G, seeds)\r\n",
    "    run_solver_against_configs(results_path=VERSUS_OUT_NODES, graph_file=GRAPH_PATH, seed_file=SEED_FILE, startNumber=10, endNumber=950, step=100, algorithms_to_run=VERSUS_METHODS, just_solve = True)\r\n",
    "    sim = Simulator(G, seeds)\r\n",
    "    \r\n",
    "    json_files = [pos_json for pos_json in os.listdir(VERSUS_OUT_NODES) if pos_json.endswith('.json')]\r\n",
    "\r\n",
    "    for _, file_name in enumerate(json_files):\r\n",
    "        tokens = file_name.replace('.json', '').split('_')\r\n",
    "        nodes_to_block = int(tokens[1])\r\n",
    "        name = tokens[2]\r\n",
    "        graph_stats = tokens[3].split(']')\r\n",
    "        num_nodes = int(graph_stats[0].replace('[',''))\r\n",
    "        num_edges = int(graph_stats[1].replace('[',''))\r\n",
    "        full_path = os.path.join(VERSUS_OUT_NODES, file_name)\r\n",
    "\r\n",
    "        with open(full_path) as json_file:\r\n",
    "            json_text = json.load(json_file)\r\n",
    "            jsons_data.loc[index] = [index, num_nodes, num_edges, json_text['Total time'], nodes_to_block, name]\r\n",
    "            blocked_nodes = json_text['Blocked nodes']\r\n",
    "            sim.add_blocked(index, blocked_nodes)\r\n",
    "\r\n",
    "            for blocked_node in blocked_nodes:\r\n",
    "                json_blocked_data.loc[idx] = [index, blocked_node]\r\n",
    "                idx += 1\r\n",
    "\r\n",
    "        index += 1\r\n",
    "        os.remove(full_path)\r\n",
    "\r\n",
    "    results = sim.run(simmulations_to_run, threads_to_use)\r\n",
    "    file_id = 'data' + str(int(index / 2)) + '.json'\r\n",
    "    out_path = os.path.join(VERSUS_OUT_RESULTS, file_id)\r\n",
    "    \r\n",
    "    with open(out_path, 'w') as f:\r\n",
    "        json.dump(results, f)\r\n",
    "        \r\n",
    "\r\n",
    "jsons_data.to_csv(os.path.join(VERSUS_OUT_RESULTS, 'simulationData.csv'), index=False)\r\n",
    "json_blocked_data.to_csv(os.path.join(VERSUS_OUT_RESULTS, 'simulationNodes.csv'), index=False)"
   ],
   "outputs": [],
   "metadata": {
    "tags": [
     "outputPrepend"
    ]
   }
  },
  {
   "cell_type": "code",
   "execution_count": null,
   "source": [
    "json_files = [pos_json for pos_json in os.listdir(VERSUS_OUT_RESULTS) if pos_json.endswith('.json')]\n",
    "sim_data = pd.DataFrame(columns=['simulation_index', 'mean_activated', 'var_activated', 'mean_saved', 'var_saved', 'saved_nodes', 'activated_nodes'])\n",
    "index = 0\n",
    "\n",
    "for _, js in enumerate(json_files):\n",
    "    full_path = os.path.join(VERSUS_OUT_RESULTS, js)\n",
    "\n",
    "    with open(full_path) as json_file:\n",
    "        json_text = json.load(json_file)\n",
    "        for sim_id in json_text['solvers'].keys():\n",
    "            mean_activated = json_text['solvers'][sim_id]['activated nodes']['mean']\n",
    "            var_activated = json_text['solvers'][sim_id]['activated nodes']['var']\n",
    "            mean_saved = json_text['solvers'][sim_id]['saved nodes']['mean']\n",
    "            var_saved = json_text['solvers'][sim_id]['saved nodes']['var']\n",
    "\n",
    "            sim_data.loc[index] = [sim_id, mean_activated, var_activated, mean_saved, mean_activated, int(math.ceil(mean_saved)), int(math.ceil(mean_activated))]\n",
    "            index += 1\n",
    "\n",
    "    os.remove(full_path)\n",
    "\n",
    "sim_data.to_csv(os.path.join(VERSUS_OUT_RESULTS, 'simulationStats.csv'), index=False)"
   ],
   "outputs": [],
   "metadata": {}
  },
  {
   "cell_type": "code",
   "execution_count": null,
   "source": [],
   "outputs": [],
   "metadata": {}
  }
 ]
}