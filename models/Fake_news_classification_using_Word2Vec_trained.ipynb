{
  "nbformat": 4,
  "nbformat_minor": 0,
  "metadata": {
    "accelerator": "GPU",
    "colab": {
      "name": "Fake news classification using model-trained word embeddings.ipynb",
      "provenance": [],
      "collapsed_sections": [],
      "mount_file_id": "1Uvgi48RTf9n5GZdhzBmnS98q5kyEbbXy",
      "authorship_tag": "ABX9TyMIURxGG9k8fWGO3lIDVlHu",
      "include_colab_link": true
    },
    "kernelspec": {
      "display_name": "Python 3",
      "name": "python3"
    },
    "language_info": {
      "name": "python"
    }
  },
  "cells": [
    {
      "cell_type": "markdown",
      "metadata": {
        "id": "view-in-github",
        "colab_type": "text"
      },
      "source": [
        "<a href=\"https://colab.research.google.com/github/raduncc/Network-aware-fake-news-detection-and-mitigation-on-social-media/blob/main/Fake_news_classification_using_model_trained_word_embeddings.ipynb\" target=\"_parent\"><img src=\"https://colab.research.google.com/assets/colab-badge.svg\" alt=\"Open In Colab\"/></a>"
      ]
    },
    {
      "cell_type": "markdown",
      "metadata": {
        "id": "s7Af2Nf0Jh_H"
      },
      "source": [
        "# Importing the libraries"
      ]
    },
    {
      "cell_type": "code",
      "metadata": {
        "id": "vYIe3jUTJeSU"
      },
      "source": [
        "import pandas as pd\n",
        "from gensim.models import KeyedVectors\n",
        "import nltk\n",
        "nltk.download('stopwords')\n",
        "nltk.download('wordnet')\n",
        "from nltk.corpus import stopwords\n",
        "from nltk.stem import WordNetLemmatizer\n",
        "from copy import deepcopy\n",
        "from sklearn.preprocessing import LabelEncoder\n",
        "from sklearn.model_selection import train_test_split\n",
        "import re\n",
        "import gensim\n",
        "from tensorflow.keras.preprocessing.text import Tokenizer\n",
        "import matplotlib.pyplot as plt\n",
        "from tensorflow.keras.preprocessing.sequence import pad_sequences\n",
        "import numpy as np\n",
        "from tensorflow.keras.models import Sequential\n",
        "from tensorflow.keras.layers import Dense, Embedding, LSTM, Conv1D, MaxPool1D, Bidirectional, Dropout, MaxPooling1D\n",
        "import pickle\n",
        "from sklearn.metrics import classification_report, accuracy_score\n",
        "from tensorflow.keras.callbacks import EarlyStopping"
      ],
      "execution_count": null,
      "outputs": []
    },
    {
      "cell_type": "markdown",
      "metadata": {
        "id": "eKO3BUeBJsee"
      },
      "source": [
        "# Choose the dataset and load data accordingly"
      ]
    },
    {
      "cell_type": "code",
      "metadata": {
        "id": "IqBaxQcsJtm0"
      },
      "source": [
        "#@title Dataset\n",
        "\n",
        "ds = 'Fakeddit' #@param [\"FNC\", \"Kaggle\", \"GossipCop\", \"Fakeddit\"]"
      ],
      "execution_count": null,
      "outputs": []
    },
    {
      "cell_type": "code",
      "metadata": {
        "id": "YzJ2Dt4mJx1o"
      },
      "source": [
        "if ds == 'FNC':\n",
        "  data = pd.read_csv('/content/drive/MyDrive/Licenta/Datasets/Fake News Corpus dataset/DATE.csv')\n",
        "  X = data.iloc[:, -1].values\n",
        "  y = data.iloc[:, 2].values\n",
        "if ds == 'Kaggle':\n",
        "  data = pd.read_csv('/content/drive/MyDrive/Licenta/Datasets/Kaggle/kaggle_cleanv3.csv')\n",
        "  X = data.iloc[:, 6].values\n",
        "  y = data.iloc[:, 7].values\n",
        "if ds == 'GossipCop':\n",
        "  data = pd.read_csv('/content/drive/MyDrive/Licenta/Datasets/Gossipcop/gossipcop_dataset.csv')\n",
        "  X = data.iloc[:,2].values\n",
        "  y = data.iloc[:,-1].values\n",
        "if ds == 'Fakeddit':\n",
        "  data = pd.read_csv('/content/drive/MyDrive/Licenta/Datasets/Fakeddit/fakeddit_dataset.csv')\n",
        "  X = data.iloc[:, 2].values\n",
        "  y = data.iloc[:, -1].values"
      ],
      "execution_count": null,
      "outputs": []
    },
    {
      "cell_type": "markdown",
      "metadata": {
        "id": "bV4ZEAvZK487"
      },
      "source": [
        "#Preprocessing - convert to lowercase, removing stop words, punctuation marks, map every word a unique index for the embedding layer "
      ]
    },
    {
      "cell_type": "code",
      "metadata": {
        "id": "7X6H694fmRJ5"
      },
      "source": [
        "lemmatizer = WordNetLemmatizer()\n",
        "\n",
        "X_clean = []\n",
        "\n",
        "le = LabelEncoder()\n",
        "y = le.fit_transform(y)\n",
        "\n",
        "for i in range(len(X)):\n",
        "  content = re.sub('[^a-zA-Z]', ' ', X[i])\n",
        "  content = content.lower()\n",
        "  content = content.split()\n",
        "\n",
        "  content = [lemmatizer.lemmatize(word) for word in content if not word in stopwords.words('english')]\n",
        "  content = ' '.join(content)\n",
        "  X_clean.append(content)"
      ],
      "execution_count": null,
      "outputs": []
    },
    {
      "cell_type": "code",
      "metadata": {
        "id": "U-ErNitJD-XU"
      },
      "source": [
        "X = []\n",
        "for xs in X_clean:\n",
        "  tokenized = xs.split()\n",
        "  X.append(tokenized)"
      ],
      "execution_count": null,
      "outputs": []
    },
    {
      "cell_type": "markdown",
      "metadata": {
        "id": "CI6bceHuK98C"
      },
      "source": [
        "# Train word embeddings"
      ]
    },
    {
      "cell_type": "code",
      "metadata": {
        "id": "LmoesdpIEWXB"
      },
      "source": [
        "EMBEDDING_DIM = 100\n",
        "\n",
        "w2v_model = gensim.models.Word2Vec(sentences=X, size=EMBEDDING_DIM, window=5, min_count=1)"
      ],
      "execution_count": null,
      "outputs": []
    },
    {
      "cell_type": "code",
      "metadata": {
        "id": "B_frlp2DHsLm"
      },
      "source": [
        "tokenizer = Tokenizer()\n",
        "tokenizer.fit_on_texts(X)\n",
        "\n",
        "X = tokenizer.texts_to_sequences(X)"
      ],
      "execution_count": null,
      "outputs": []
    },
    {
      "cell_type": "markdown",
      "metadata": {
        "id": "gHHZ7xdJLCSy"
      },
      "source": [
        "# # of articles by post-processing length"
      ]
    },
    {
      "cell_type": "code",
      "metadata": {
        "id": "UWhvF9VEI19D"
      },
      "source": [
        "plt.hist([len(x) for x in X], bins=500)\n",
        "plt.xlabel('Length')\n",
        "plt.ylabel('#articles')\n",
        "plt.show()"
      ],
      "execution_count": null,
      "outputs": []
    },
    {
      "cell_type": "markdown",
      "metadata": {
        "id": "1quobd6cLHeW"
      },
      "source": [
        "#Equalize the lengths of the articles according to the above histogram"
      ]
    },
    {
      "cell_type": "code",
      "metadata": {
        "id": "99IBv570Jb7x"
      },
      "source": [
        "if ds in ['FNC', 'Kaggle']:\n",
        "  len_to_pad = 1000\n",
        "if ds in ['GossipCop', 'Fakeddit']:\n",
        "  len_to_pad = 10\n",
        "\n",
        "X = pad_sequences(X, maxlen=len_to_pad)"
      ],
      "execution_count": null,
      "outputs": []
    },
    {
      "cell_type": "code",
      "metadata": {
        "id": "73ZiyI2uJ9Tk"
      },
      "source": [
        "voc_size = len(tokenizer.word_index) + 1\n",
        "\n",
        "wm = np.zeros((voc_size, EMBEDDING_DIM))\n",
        "\n",
        "for w, i in tokenizer.word_index.items():\n",
        "  wm[i] = w2v_model.wv[w]"
      ],
      "execution_count": null,
      "outputs": []
    },
    {
      "cell_type": "markdown",
      "metadata": {
        "id": "YQcPXVTNLPfy"
      },
      "source": [
        "#Choose the model you want to use in classification"
      ]
    },
    {
      "cell_type": "code",
      "metadata": {
        "id": "RQP5CyEVLQJR"
      },
      "source": [
        "#@title Model\n",
        "\n",
        "mdl = 'Stacked' #@param [\"Conv\", \"Stacked\"]"
      ],
      "execution_count": null,
      "outputs": []
    },
    {
      "cell_type": "code",
      "metadata": {
        "id": "0ratza7JLRMa"
      },
      "source": [
        "if mdl == 'Conv':\n",
        "  model = Sequential()\n",
        "  model.add(Embedding(voc_size, output_dim=EMBEDDING_DIM, weights=[wm], input_length=len_to_pad, trainable=False))\n",
        "  model.add(Conv1D(128, 3, activation='relu'))\n",
        "  model.add(MaxPooling1D())\n",
        "  model.add(Dense(256))\n",
        "  model.add(Bidirectional(LSTM(64, return_sequences=True)))\n",
        "  model.add(Dropout(0.2))\n",
        "  model.add(Bidirectional(LSTM(64, return_sequences=True)))\n",
        "  model.add(Dropout(0.2))\n",
        "  model.add(Bidirectional(LSTM(64)))\n",
        "  model.add(Dense(128))\n",
        "  model.add(Dense(1, activation='sigmoid'))\n",
        "  model.compile(optimizer='adam', loss='binary_crossentropy', metrics=['acc'])\n",
        "if mdl == 'Stacked':\n",
        "  model = Sequential()\n",
        "  model.add(Embedding(voc_size, output_dim=EMBEDDING_DIM, weights=[wm], input_length=len_to_pad, trainable=False))\n",
        "  model.add(Bidirectional(LSTM(128, return_sequences=True)))\n",
        "  model.add(Dropout(0.2))\n",
        "  model.add(Bidirectional(LSTM(128, return_sequences=True)))\n",
        "  model.add(Dropout(0.2))\n",
        "  model.add(Bidirectional(LSTM(128)))\n",
        "  model.add(Dense(128))\n",
        "  model.add(Dense(1, activation='sigmoid'))\n",
        "  model.compile(optimizer='adam', loss='binary_crossentropy', metrics=['acc'])"
      ],
      "execution_count": null,
      "outputs": []
    },
    {
      "cell_type": "markdown",
      "metadata": {
        "id": "69P715OkLVS3"
      },
      "source": [
        "# Make train and test splits, train the models and show the results"
      ]
    },
    {
      "cell_type": "code",
      "metadata": {
        "id": "XYm9WBlYMH1S"
      },
      "source": [
        "X_train, X_test, y_train, y_test = train_test_split(X, y, test_size=.2) "
      ],
      "execution_count": null,
      "outputs": []
    },
    {
      "cell_type": "code",
      "metadata": {
        "id": "r0C3AUUoMin8"
      },
      "source": [
        "es = EarlyStopping(monitor='val_loss', patience=5)\n",
        "model.fit(X_train, y_train, validation_split=0.2, epochs=200, callbacks=[es], batch_size=128)"
      ],
      "execution_count": null,
      "outputs": []
    },
    {
      "cell_type": "code",
      "metadata": {
        "id": "QDJi-DseQ2as"
      },
      "source": [
        "y_pred = (model.predict(X_test) >= 0.5).astype(\"int\")"
      ],
      "execution_count": null,
      "outputs": []
    },
    {
      "cell_type": "code",
      "metadata": {
        "id": "FGdCHzD1Sggc"
      },
      "source": [
        "accuracy_score(y_test, y_pred)"
      ],
      "execution_count": null,
      "outputs": []
    },
    {
      "cell_type": "code",
      "metadata": {
        "id": "TPzyxUOmSg_K"
      },
      "source": [
        "print(classification_report(y_test, y_pred, digits=5))"
      ],
      "execution_count": null,
      "outputs": []
    },
    {
      "cell_type": "markdown",
      "metadata": {
        "id": "2pYbrvxYLmnW"
      },
      "source": [
        "# Save the model for using it in the website"
      ]
    },
    {
      "cell_type": "code",
      "metadata": {
        "id": "dSzEDqARLn53"
      },
      "source": [
        "#@title Do you want to save the model?\n",
        "save_mdl = False #@param {type:\"boolean\"}"
      ],
      "execution_count": null,
      "outputs": []
    },
    {
      "cell_type": "code",
      "metadata": {
        "id": "9B6w0que5C5v"
      },
      "source": [
        "if save_mdl:\n",
        "  model.save('/content/drive/MyDrive/Licenta/model.h5')\n",
        "  pickle.dump(tokenizer, open('/content/drive/MyDrive/Licenta/tokenizer', \"wb\" ))"
      ],
      "execution_count": null,
      "outputs": []
    }
  ]
}